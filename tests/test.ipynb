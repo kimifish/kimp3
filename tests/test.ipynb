{
 "cells": [
  {
   "cell_type": "code",
   "execution_count": null,
   "metadata": {},
   "outputs": [],
   "source": [
    "import sys\n",
    "import lastfm\n",
    "from rich.pretty import pretty_repr\n",
    "from rich.pretty import pprint\n",
    "from config import cfg\n",
    "from models import AudioTags\n",
    "from song import AudioFile\n",
    "from songdir import SongDir"
   ]
  },
  {
   "cell_type": "code",
   "execution_count": null,
   "metadata": {},
   "outputs": [],
   "source": [
    "lastfm.init_lastfm()\n",
    "net = lastfm.network"
   ]
  },
  {
   "cell_type": "code",
   "execution_count": null,
   "metadata": {},
   "outputs": [],
   "source": [
    "from main import main\n",
    "main()"
   ]
  },
  {
   "cell_type": "code",
   "execution_count": null,
   "metadata": {},
   "outputs": [],
   "source": [
    "sys.exit()"
   ]
  },
  {
   "cell_type": "code",
   "execution_count": null,
   "metadata": {},
   "outputs": [],
   "source": [
    "# s = AudioFile(\"/home/kimifish/Downloads/Laserdance/Albums/1993 Hypermagic/03 Fire On Ice.mp3\")\n",
    "s = SongDir(\"/home/kimifish/Downloads/Perturbator/2014 - Dangerous Days\")\n",
    "# pprint(s.tags)\n",
    "changes = s.check_tags()\n",
    "# pprint(s.tags)\n",
    "pprint(changes)\n"
   ]
  },
  {
   "cell_type": "code",
   "execution_count": null,
   "metadata": {},
   "outputs": [],
   "source": [
    "\n",
    "pprint(lastfm._artist_corrections)\n",
    "pprint(lastfm._album_corrections)\n",
    "#pprint(lastfm._artist_albums_cache, max_depth=3)\n",
    "pprint(lastfm._album_tracks_cache)\n",
    "pprint(lastfm._artist_tags_cache)\n",
    "pprint(lastfm._album_tags_cache)\n",
    "\n",
    "\n"
   ]
  },
  {
   "cell_type": "code",
   "execution_count": null,
   "metadata": {},
   "outputs": [],
   "source": [
    "at = [\n",
    "    AudioTags(title=\"dancing queen\", artist=\"abba\", album=\"arrival\"),\n",
    "    AudioTags(title=\"stain\", artist=\"nervana\", album=\"insecticide\"),\n",
    "    AudioTags(title=\"angeleyes\", artist=\"abba\", album=\"vulez vous\"),\n",
    "    AudioTags(title=\"в последную осень\", artist=\"ДДТ\", album=\"актриса весна\"),\n",
    "]\n",
    "for a in at:\n",
    "    lft = lastfm.TaggedTrack(a)"
   ]
  },
  {
   "cell_type": "code",
   "execution_count": null,
   "metadata": {},
   "outputs": [],
   "source": [
    "'japanese' in cfg.lastfm.banned_artists_from_tags.__dict__\n",
    "'ддт' in cfg.lastfm.banned_artists_from_tags.__dict__['japanese']"
   ]
  }
 ],
 "metadata": {
  "kernelspec": {
   "display_name": ".venv",
   "language": "python",
   "name": "python3"
  },
  "language_info": {
   "codemirror_mode": {
    "name": "ipython",
    "version": 3
   },
   "file_extension": ".py",
   "mimetype": "text/x-python",
   "name": "python",
   "nbconvert_exporter": "python",
   "pygments_lexer": "ipython3",
   "version": "3.10.12"
  }
 },
 "nbformat": 4,
 "nbformat_minor": 2
}
